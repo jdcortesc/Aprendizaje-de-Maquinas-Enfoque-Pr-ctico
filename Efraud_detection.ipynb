{
 "cells": [
  {
   "cell_type": "markdown",
   "metadata": {},
   "source": [
    "# Exercise 15\n",
    "\n",
    "# Fraud Detection"
   ]
  },
  {
   "cell_type": "markdown",
   "metadata": {},
   "source": [
    "## Introduction\n",
    "\n",
    "- Fraud Detection Dataset from Microsoft Azure: [data](http://gallery.cortanaintelligence.com/Experiment/8e9fe4e03b8b4c65b9ca947c72b8e463)\n",
    "\n",
    "Fraud detection is one of the earliest industrial applications of data mining and machine learning. Fraud detection is typically handled as a binary classification problem, but the class population is unbalanced because instances of fraud are usually very rare compared to the overall volume of transactions. Moreover, when fraudulent transactions are discovered, the business typically takes measures to block the accounts from transacting to prevent further losses. "
   ]
  },
  {
   "cell_type": "code",
   "execution_count": 24,
   "metadata": {},
   "outputs": [],
   "source": [
    "%matplotlib inline\n",
    "import pandas as pd\n",
    "import numpy as np\n",
    "from sklearn.model_selection import cross_val_score\n",
    "from sklearn.linear_model import LogisticRegression\n",
    "from sklearn.tree import DecisionTreeClassifier\n",
    "from sklearn import metrics\n",
    "from sklearn.model_selection import train_test_split\n",
    "from sklearn.decomposition import PCA\n",
    "import matplotlib.pyplot as plt\n",
    "from sklearn.ensemble import RandomForestClassifier\n",
    "import random\n",
    "from imblearn.over_sampling import ADASYN # doctest: +NORMALIZE_WHITESPACE"
   ]
  },
  {
   "cell_type": "code",
   "execution_count": 25,
   "metadata": {},
   "outputs": [],
   "source": [
    "import pandas as pd\n",
    "\n",
    "url = 'https://raw.githubusercontent.com/albahnsen/PracticalMachineLearningClass/master/datasets/15_fraud_detection.csv.zip'\n",
    "df = pd.read_csv(url, index_col=0)"
   ]
  },
  {
   "cell_type": "code",
   "execution_count": 26,
   "metadata": {},
   "outputs": [
    {
     "data": {
      "text/html": [
       "<div>\n",
       "<style scoped>\n",
       "    .dataframe tbody tr th:only-of-type {\n",
       "        vertical-align: middle;\n",
       "    }\n",
       "\n",
       "    .dataframe tbody tr th {\n",
       "        vertical-align: top;\n",
       "    }\n",
       "\n",
       "    .dataframe thead th {\n",
       "        text-align: right;\n",
       "    }\n",
       "</style>\n",
       "<table border=\"1\" class=\"dataframe\">\n",
       "  <thead>\n",
       "    <tr style=\"text-align: right;\">\n",
       "      <th></th>\n",
       "      <th>accountAge</th>\n",
       "      <th>digitalItemCount</th>\n",
       "      <th>sumPurchaseCount1Day</th>\n",
       "      <th>sumPurchaseAmount1Day</th>\n",
       "      <th>sumPurchaseAmount30Day</th>\n",
       "      <th>paymentBillingPostalCode - LogOddsForClass_0</th>\n",
       "      <th>accountPostalCode - LogOddsForClass_0</th>\n",
       "      <th>paymentBillingState - LogOddsForClass_0</th>\n",
       "      <th>accountState - LogOddsForClass_0</th>\n",
       "      <th>paymentInstrumentAgeInAccount</th>\n",
       "      <th>ipState - LogOddsForClass_0</th>\n",
       "      <th>transactionAmount</th>\n",
       "      <th>transactionAmountUSD</th>\n",
       "      <th>ipPostalCode - LogOddsForClass_0</th>\n",
       "      <th>localHour - LogOddsForClass_0</th>\n",
       "      <th>Label</th>\n",
       "    </tr>\n",
       "  </thead>\n",
       "  <tbody>\n",
       "    <tr>\n",
       "      <th>0</th>\n",
       "      <td>2000</td>\n",
       "      <td>0</td>\n",
       "      <td>0</td>\n",
       "      <td>0.00</td>\n",
       "      <td>720.25</td>\n",
       "      <td>5.064533</td>\n",
       "      <td>0.421214</td>\n",
       "      <td>1.312186</td>\n",
       "      <td>0.566395</td>\n",
       "      <td>3279.574306</td>\n",
       "      <td>1.218157</td>\n",
       "      <td>599.00</td>\n",
       "      <td>626.164650</td>\n",
       "      <td>1.259543</td>\n",
       "      <td>4.745402</td>\n",
       "      <td>0</td>\n",
       "    </tr>\n",
       "    <tr>\n",
       "      <th>1</th>\n",
       "      <td>62</td>\n",
       "      <td>1</td>\n",
       "      <td>1</td>\n",
       "      <td>1185.44</td>\n",
       "      <td>2530.37</td>\n",
       "      <td>0.538996</td>\n",
       "      <td>0.481838</td>\n",
       "      <td>4.401370</td>\n",
       "      <td>4.500157</td>\n",
       "      <td>61.970139</td>\n",
       "      <td>4.035601</td>\n",
       "      <td>1185.44</td>\n",
       "      <td>1185.440000</td>\n",
       "      <td>3.981118</td>\n",
       "      <td>4.921349</td>\n",
       "      <td>0</td>\n",
       "    </tr>\n",
       "    <tr>\n",
       "      <th>2</th>\n",
       "      <td>2000</td>\n",
       "      <td>0</td>\n",
       "      <td>0</td>\n",
       "      <td>0.00</td>\n",
       "      <td>0.00</td>\n",
       "      <td>5.064533</td>\n",
       "      <td>5.096396</td>\n",
       "      <td>3.056357</td>\n",
       "      <td>3.155226</td>\n",
       "      <td>0.000000</td>\n",
       "      <td>3.314186</td>\n",
       "      <td>32.09</td>\n",
       "      <td>32.090000</td>\n",
       "      <td>5.008490</td>\n",
       "      <td>4.742303</td>\n",
       "      <td>0</td>\n",
       "    </tr>\n",
       "    <tr>\n",
       "      <th>3</th>\n",
       "      <td>1</td>\n",
       "      <td>1</td>\n",
       "      <td>0</td>\n",
       "      <td>0.00</td>\n",
       "      <td>0.00</td>\n",
       "      <td>5.064533</td>\n",
       "      <td>5.096396</td>\n",
       "      <td>3.331154</td>\n",
       "      <td>3.331239</td>\n",
       "      <td>0.000000</td>\n",
       "      <td>3.529398</td>\n",
       "      <td>133.28</td>\n",
       "      <td>132.729554</td>\n",
       "      <td>1.324925</td>\n",
       "      <td>4.745402</td>\n",
       "      <td>0</td>\n",
       "    </tr>\n",
       "    <tr>\n",
       "      <th>4</th>\n",
       "      <td>1</td>\n",
       "      <td>1</td>\n",
       "      <td>0</td>\n",
       "      <td>0.00</td>\n",
       "      <td>132.73</td>\n",
       "      <td>5.412885</td>\n",
       "      <td>0.342945</td>\n",
       "      <td>5.563677</td>\n",
       "      <td>4.086965</td>\n",
       "      <td>0.001389</td>\n",
       "      <td>3.529398</td>\n",
       "      <td>543.66</td>\n",
       "      <td>543.660000</td>\n",
       "      <td>2.693451</td>\n",
       "      <td>4.876771</td>\n",
       "      <td>0</td>\n",
       "    </tr>\n",
       "  </tbody>\n",
       "</table>\n",
       "</div>"
      ],
      "text/plain": [
       "   accountAge  digitalItemCount  sumPurchaseCount1Day  sumPurchaseAmount1Day  \\\n",
       "0        2000                 0                     0                   0.00   \n",
       "1          62                 1                     1                1185.44   \n",
       "2        2000                 0                     0                   0.00   \n",
       "3           1                 1                     0                   0.00   \n",
       "4           1                 1                     0                   0.00   \n",
       "\n",
       "   sumPurchaseAmount30Day  paymentBillingPostalCode - LogOddsForClass_0  \\\n",
       "0                  720.25                                      5.064533   \n",
       "1                 2530.37                                      0.538996   \n",
       "2                    0.00                                      5.064533   \n",
       "3                    0.00                                      5.064533   \n",
       "4                  132.73                                      5.412885   \n",
       "\n",
       "   accountPostalCode - LogOddsForClass_0  \\\n",
       "0                               0.421214   \n",
       "1                               0.481838   \n",
       "2                               5.096396   \n",
       "3                               5.096396   \n",
       "4                               0.342945   \n",
       "\n",
       "   paymentBillingState - LogOddsForClass_0  accountState - LogOddsForClass_0  \\\n",
       "0                                 1.312186                          0.566395   \n",
       "1                                 4.401370                          4.500157   \n",
       "2                                 3.056357                          3.155226   \n",
       "3                                 3.331154                          3.331239   \n",
       "4                                 5.563677                          4.086965   \n",
       "\n",
       "   paymentInstrumentAgeInAccount  ipState - LogOddsForClass_0  \\\n",
       "0                    3279.574306                     1.218157   \n",
       "1                      61.970139                     4.035601   \n",
       "2                       0.000000                     3.314186   \n",
       "3                       0.000000                     3.529398   \n",
       "4                       0.001389                     3.529398   \n",
       "\n",
       "   transactionAmount  transactionAmountUSD  ipPostalCode - LogOddsForClass_0  \\\n",
       "0             599.00            626.164650                          1.259543   \n",
       "1            1185.44           1185.440000                          3.981118   \n",
       "2              32.09             32.090000                          5.008490   \n",
       "3             133.28            132.729554                          1.324925   \n",
       "4             543.66            543.660000                          2.693451   \n",
       "\n",
       "   localHour - LogOddsForClass_0  Label  \n",
       "0                       4.745402      0  \n",
       "1                       4.921349      0  \n",
       "2                       4.742303      0  \n",
       "3                       4.745402      0  \n",
       "4                       4.876771      0  "
      ]
     },
     "execution_count": 26,
     "metadata": {},
     "output_type": "execute_result"
    }
   ],
   "source": [
    "df.head()"
   ]
  },
  {
   "cell_type": "code",
   "execution_count": 27,
   "metadata": {},
   "outputs": [
    {
     "data": {
      "text/plain": [
       "((138721, 16), 797, 0.0057453449730033666)"
      ]
     },
     "execution_count": 27,
     "metadata": {},
     "output_type": "execute_result"
    }
   ],
   "source": [
    "df.shape, df.Label.sum(), df.Label.mean()"
   ]
  },
  {
   "cell_type": "markdown",
   "metadata": {},
   "source": [
    "# Exercise 15.1\n",
    "\n",
    "Estimate a Logistic Regression and a Decision Tree\n",
    "\n",
    "Evaluate using the following metrics:\n",
    "* Accuracy\n",
    "* F1-Score\n",
    "* F_Beta-Score (Beta=10)\n",
    "\n",
    "Comment about the results"
   ]
  },
  {
   "cell_type": "markdown",
   "metadata": {},
   "source": [
    "# particionando base:"
   ]
  },
  {
   "cell_type": "code",
   "execution_count": 28,
   "metadata": {},
   "outputs": [
    {
     "name": "stdout",
     "output_type": "stream",
     "text": [
      "accountAge                                        int64\n",
      "digitalItemCount                                  int64\n",
      "sumPurchaseCount1Day                              int64\n",
      "sumPurchaseAmount1Day                           float64\n",
      "sumPurchaseAmount30Day                          float64\n",
      "paymentBillingPostalCode - LogOddsForClass_0    float64\n",
      "accountPostalCode - LogOddsForClass_0           float64\n",
      "paymentBillingState - LogOddsForClass_0         float64\n",
      "accountState - LogOddsForClass_0                float64\n",
      "paymentInstrumentAgeInAccount                   float64\n",
      "ipState - LogOddsForClass_0                     float64\n",
      "transactionAmount                               float64\n",
      "transactionAmountUSD                            float64\n",
      "ipPostalCode - LogOddsForClass_0                float64\n",
      "localHour - LogOddsForClass_0                   float64\n",
      "Label                                             int64\n",
      "dtype: object\n"
     ]
    },
    {
     "data": {
      "text/plain": [
       "(138721, 16)"
      ]
     },
     "execution_count": 28,
     "metadata": {},
     "output_type": "execute_result"
    }
   ],
   "source": [
    "print(df.dtypes)\n",
    "df.shape"
   ]
  },
  {
   "cell_type": "code",
   "execution_count": 29,
   "metadata": {},
   "outputs": [],
   "source": [
    "validation_size = 0.30\n",
    "seed = 42\n",
    "y=df.Label\n",
    "x=df.iloc[:,0:(df.shape[1]-1)]"
   ]
  },
  {
   "cell_type": "code",
   "execution_count": 30,
   "metadata": {},
   "outputs": [
    {
     "name": "stdout",
     "output_type": "stream",
     "text": [
      "   accountAge  digitalItemCount  sumPurchaseCount1Day  sumPurchaseAmount1Day  \\\n",
      "0        2000                 0                     0                   0.00   \n",
      "1          62                 1                     1                1185.44   \n",
      "2        2000                 0                     0                   0.00   \n",
      "3           1                 1                     0                   0.00   \n",
      "4           1                 1                     0                   0.00   \n",
      "\n",
      "   sumPurchaseAmount30Day  paymentBillingPostalCode - LogOddsForClass_0  \\\n",
      "0                  720.25                                      5.064533   \n",
      "1                 2530.37                                      0.538996   \n",
      "2                    0.00                                      5.064533   \n",
      "3                    0.00                                      5.064533   \n",
      "4                  132.73                                      5.412885   \n",
      "\n",
      "   accountPostalCode - LogOddsForClass_0  \\\n",
      "0                               0.421214   \n",
      "1                               0.481838   \n",
      "2                               5.096396   \n",
      "3                               5.096396   \n",
      "4                               0.342945   \n",
      "\n",
      "   paymentBillingState - LogOddsForClass_0  accountState - LogOddsForClass_0  \\\n",
      "0                                 1.312186                          0.566395   \n",
      "1                                 4.401370                          4.500157   \n",
      "2                                 3.056357                          3.155226   \n",
      "3                                 3.331154                          3.331239   \n",
      "4                                 5.563677                          4.086965   \n",
      "\n",
      "   paymentInstrumentAgeInAccount  ipState - LogOddsForClass_0  \\\n",
      "0                    3279.574306                     1.218157   \n",
      "1                      61.970139                     4.035601   \n",
      "2                       0.000000                     3.314186   \n",
      "3                       0.000000                     3.529398   \n",
      "4                       0.001389                     3.529398   \n",
      "\n",
      "   transactionAmount  transactionAmountUSD  ipPostalCode - LogOddsForClass_0  \\\n",
      "0             599.00            626.164650                          1.259543   \n",
      "1            1185.44           1185.440000                          3.981118   \n",
      "2              32.09             32.090000                          5.008490   \n",
      "3             133.28            132.729554                          1.324925   \n",
      "4             543.66            543.660000                          2.693451   \n",
      "\n",
      "   localHour - LogOddsForClass_0  \n",
      "0                       4.745402  \n",
      "1                       4.921349  \n",
      "2                       4.742303  \n",
      "3                       4.745402  \n",
      "4                       4.876771  \n",
      "0    0\n",
      "1    0\n",
      "2    0\n",
      "3    0\n",
      "4    0\n",
      "Name: Label, dtype: int64\n"
     ]
    }
   ],
   "source": [
    "print(x.head())\n",
    "print(y.head())\n",
    "X_train, X_test, Y_train, Y_test = train_test_split(x, y,test_size=validation_size, random_state=seed)"
   ]
  },
  {
   "cell_type": "markdown",
   "metadata": {},
   "source": [
    "# Regresion logistica:"
   ]
  },
  {
   "cell_type": "code",
   "execution_count": 8,
   "metadata": {},
   "outputs": [
    {
     "data": {
      "text/plain": [
       "LogisticRegression(C=1.0, class_weight=None, dual=False, fit_intercept=True,\n",
       "          intercept_scaling=1, max_iter=200, multi_class='warn',\n",
       "          n_jobs=None, penalty='l2', random_state=None, solver='lbfgs',\n",
       "          tol=0.0001, verbose=0, warm_start=False)"
      ]
     },
     "execution_count": 8,
     "metadata": {},
     "output_type": "execute_result"
    }
   ],
   "source": [
    "logreg = LogisticRegression(solver='lbfgs',max_iter =200) #cambio en parametros para lograr convergencia.\n",
    "logreg.fit(X_train, Y_train)"
   ]
  },
  {
   "cell_type": "code",
   "execution_count": 9,
   "metadata": {},
   "outputs": [],
   "source": [
    "y_pred=logreg.predict(X_test)"
   ]
  },
  {
   "cell_type": "code",
   "execution_count": 10,
   "metadata": {},
   "outputs": [
    {
     "data": {
      "text/plain": [
       "0.994112982675349"
      ]
     },
     "execution_count": 10,
     "metadata": {},
     "output_type": "execute_result"
    }
   ],
   "source": [
    "metrics.accuracy_score(Y_test, y_pred) #ACCURACY"
   ]
  },
  {
   "cell_type": "code",
   "execution_count": 11,
   "metadata": {},
   "outputs": [
    {
     "name": "stderr",
     "output_type": "stream",
     "text": [
      "/Users/juand./anaconda3/lib/python3.7/site-packages/sklearn/metrics/classification.py:1143: UndefinedMetricWarning: F-score is ill-defined and being set to 0.0 due to no predicted samples.\n",
      "  'precision', 'predicted', average, warn_for)\n"
     ]
    },
    {
     "data": {
      "text/plain": [
       "0.0"
      ]
     },
     "execution_count": 11,
     "metadata": {},
     "output_type": "execute_result"
    }
   ],
   "source": [
    "metrics.f1_score(Y_test, y_pred) #F1-SCORE"
   ]
  },
  {
   "cell_type": "code",
   "execution_count": 12,
   "metadata": {},
   "outputs": [
    {
     "data": {
      "text/plain": [
       "0.0"
      ]
     },
     "execution_count": 12,
     "metadata": {},
     "output_type": "execute_result"
    }
   ],
   "source": [
    "metrics.fbeta_score(Y_test, y_pred, beta=10) #F_BETA-SCORE"
   ]
  },
  {
   "cell_type": "markdown",
   "metadata": {},
   "source": [
    "# Arbol de decisión:"
   ]
  },
  {
   "cell_type": "code",
   "execution_count": 13,
   "metadata": {},
   "outputs": [],
   "source": [
    "from sklearn.tree import DecisionTreeClassifier"
   ]
  },
  {
   "cell_type": "markdown",
   "metadata": {},
   "source": [
    "## tuneando max_depth para el arbol de clasificación:"
   ]
  },
  {
   "cell_type": "code",
   "execution_count": 14,
   "metadata": {},
   "outputs": [],
   "source": [
    "# list of values to try\n",
    "max_depth_range = range(1, 8)\n",
    "\n",
    "# list to store the average RMSE for each value of max_depth\n",
    "accuracys = []\n",
    "salid=[]\n",
    "\n",
    "# use LOOCV with each value of max_depth\n",
    "for depth in max_depth_range:\n",
    "    treereg = DecisionTreeClassifier(max_depth=depth, random_state=1)\n",
    "    acc = cross_val_score(treereg, X_train, Y_train, cv=14, scoring='accuracy')\n",
    "    tupla=(np.mean(acc),depth)\n",
    "    salid.append(tupla)\n",
    "    accuracys.append(np.mean(acc))"
   ]
  },
  {
   "cell_type": "code",
   "execution_count": 15,
   "metadata": {},
   "outputs": [
    {
     "data": {
      "text/plain": [
       "Text(0, 0.5, 'AccuracyE (upper is better)')"
      ]
     },
     "execution_count": 15,
     "metadata": {},
     "output_type": "execute_result"
    },
    {
     "data": {
      "image/png": "[encoded data removed]",
      "text/plain": [
       "<Figure size 432x288 with 1 Axes>"
      ]
     },
     "metadata": {
      "needs_background": "light"
     },
     "output_type": "display_data"
    }
   ],
   "source": [
    "%matplotlib inline\n",
    "import matplotlib.pyplot as plt\n",
    "# plot max_depth (x-axis) versus RMSE (y-axis)\n",
    "plt.plot(max_depth_range, accuracys)\n",
    "plt.xlabel('max_depth')\n",
    "plt.ylabel('AccuracyE (upper is better)')"
   ]
  },
  {
   "cell_type": "code",
   "execution_count": 16,
   "metadata": {},
   "outputs": [],
   "source": [
    "salid=pd.DataFrame(salid,columns=['accuracy','depth'])"
   ]
  },
  {
   "cell_type": "code",
   "execution_count": 17,
   "metadata": {},
   "outputs": [
    {
     "data": {
      "text/html": [
       "<div>\n",
       "<style scoped>\n",
       "    .dataframe tbody tr th:only-of-type {\n",
       "        vertical-align: middle;\n",
       "    }\n",
       "\n",
       "    .dataframe tbody tr th {\n",
       "        vertical-align: top;\n",
       "    }\n",
       "\n",
       "    .dataframe thead th {\n",
       "        text-align: right;\n",
       "    }\n",
       "</style>\n",
       "<table border=\"1\" class=\"dataframe\">\n",
       "  <thead>\n",
       "    <tr style=\"text-align: right;\">\n",
       "      <th></th>\n",
       "      <th>accuracy</th>\n",
       "      <th>depth</th>\n",
       "    </tr>\n",
       "  </thead>\n",
       "  <tbody>\n",
       "    <tr>\n",
       "      <th>6</th>\n",
       "      <td>0.99413</td>\n",
       "      <td>7</td>\n",
       "    </tr>\n",
       "  </tbody>\n",
       "</table>\n",
       "</div>"
      ],
      "text/plain": [
       "   accuracy  depth\n",
       "6   0.99413      7"
      ]
     },
     "execution_count": 17,
     "metadata": {},
     "output_type": "execute_result"
    }
   ],
   "source": [
    "salid[salid.iloc[:,1]==max(salid.iloc[:,1])]"
   ]
  },
  {
   "cell_type": "markdown",
   "metadata": {},
   "source": [
    "## Ajustando arbol:"
   ]
  },
  {
   "cell_type": "code",
   "execution_count": 18,
   "metadata": {},
   "outputs": [
    {
     "data": {
      "text/plain": [
       "DecisionTreeClassifier(class_weight=None, criterion='gini', max_depth=7,\n",
       "            max_features=None, max_leaf_nodes=None,\n",
       "            min_impurity_decrease=0.0, min_impurity_split=None,\n",
       "            min_samples_leaf=1, min_samples_split=2,\n",
       "            min_weight_fraction_leaf=0.0, presort=False, random_state=1,\n",
       "            splitter='best')"
      ]
     },
     "execution_count": 18,
     "metadata": {},
     "output_type": "execute_result"
    }
   ],
   "source": [
    "treeclf = DecisionTreeClassifier(max_depth=7, random_state=1)\n",
    "treeclf.fit(X_train, Y_train)"
   ]
  },
  {
   "cell_type": "code",
   "execution_count": 19,
   "metadata": {},
   "outputs": [],
   "source": [
    "y_pred=treeclf.predict(X_test)"
   ]
  },
  {
   "cell_type": "code",
   "execution_count": 20,
   "metadata": {},
   "outputs": [
    {
     "name": "stdout",
     "output_type": "stream",
     "text": [
      "0.9940168681067832\n",
      "0.07434944237918215\n",
      "0.04118414614255423\n"
     ]
    }
   ],
   "source": [
    "print(metrics.accuracy_score(Y_test, y_pred)) #ACCURACY\n",
    "print(metrics.f1_score(Y_test, y_pred)) #F1-SCORE\n",
    "print(metrics.fbeta_score(Y_test, y_pred, beta=10)) #F_BETA-SCORE"
   ]
  },
  {
   "cell_type": "markdown",
   "metadata": {},
   "source": [
    "## Ajustando random forest:"
   ]
  },
  {
   "cell_type": "code",
   "execution_count": 21,
   "metadata": {},
   "outputs": [
    {
     "data": {
      "text/plain": [
       "RandomForestClassifier(bootstrap=True, class_weight=None, criterion='gini',\n",
       "            max_depth=None, max_features='auto', max_leaf_nodes=None,\n",
       "            min_impurity_decrease=0.0, min_impurity_split=None,\n",
       "            min_samples_leaf=1, min_samples_split=2,\n",
       "            min_weight_fraction_leaf=0.0, n_estimators='warn', n_jobs=None,\n",
       "            oob_score=False, random_state=None, verbose=0,\n",
       "            warm_start=False)"
      ]
     },
     "execution_count": 21,
     "metadata": {},
     "output_type": "execute_result"
    }
   ],
   "source": [
    "clf = RandomForestClassifier()\n",
    "clf"
   ]
  },
  {
   "cell_type": "code",
   "execution_count": 22,
   "metadata": {},
   "outputs": [
    {
     "data": {
      "text/plain": [
       "count    10.000000\n",
       "mean      0.994233\n",
       "std       0.000217\n",
       "min       0.994027\n",
       "25%       0.994027\n",
       "50%       0.994181\n",
       "75%       0.994413\n",
       "max       0.994542\n",
       "dtype: float64"
      ]
     },
     "execution_count": 22,
     "metadata": {},
     "output_type": "execute_result"
    }
   ],
   "source": [
    "import warnings\n",
    "warnings.filterwarnings(\"ignore\")\n",
    "pd.Series(cross_val_score(clf, X_train, Y_train, cv=10,scoring='accuracy')).describe() ##evaluando modelo con parametros por defecto"
   ]
  },
  {
   "cell_type": "markdown",
   "metadata": {},
   "source": [
    "### Tuning n_estimators"
   ]
  },
  {
   "cell_type": "code",
   "execution_count": 23,
   "metadata": {},
   "outputs": [
    {
     "name": "stdout",
     "output_type": "stream",
     "text": [
      "10\n",
      "20\n",
      "30\n",
      "40\n",
      "50\n",
      "60\n",
      "70\n",
      "80\n",
      "90\n",
      "100\n",
      "110\n",
      "120\n",
      "130\n",
      "140\n",
      "150\n",
      "160\n",
      "170\n",
      "180\n",
      "190\n",
      "200\n",
      "210\n",
      "220\n",
      "230\n",
      "240\n",
      "250\n",
      "260\n",
      "270\n",
      "280\n",
      "290\n",
      "300\n"
     ]
    }
   ],
   "source": [
    "# list of values to try for n_estimators\n",
    "estimator_range = range(10, 310, 10)\n",
    "\n",
    "# list to store the average Accuracy for each value of n_estimators\n",
    "accuracy_scores = []\n",
    "salid=[]\n",
    "\n",
    "# use 5-fold cross-validation with each value of n_estimators (WARNING: SLOW!)\n",
    "for estimator in estimator_range:\n",
    "    clf = RandomForestClassifier(n_estimators=estimator, random_state=1, n_jobs=-1)\n",
    "    acc = cross_val_score(clf, X_train, Y_train, cv=3, scoring='accuracy')\n",
    "    tupla=(np.mean(acc),estimator)\n",
    "    salid.append(tupla)\n",
    "    accuracy_scores.append(np.mean(acc))\n",
    "    print(estimator)"
   ]
  },
  {
   "cell_type": "code",
   "execution_count": 24,
   "metadata": {},
   "outputs": [
    {
     "data": {
      "text/plain": [
       "Text(0, 0.5, 'Accuracy')"
      ]
     },
     "execution_count": 24,
     "metadata": {},
     "output_type": "execute_result"
    },
    {
     "data": {
      "image/png": "[encoded data removed]",
      "text/plain": [
       "<Figure size 432x288 with 1 Axes>"
      ]
     },
     "metadata": {
      "needs_background": "light"
     },
     "output_type": "display_data"
    }
   ],
   "source": [
    "plt.plot(estimator_range, accuracy_scores)\n",
    "plt.xlabel('n_estimators')\n",
    "plt.ylabel('Accuracy')"
   ]
  },
  {
   "cell_type": "code",
   "execution_count": 25,
   "metadata": {},
   "outputs": [],
   "source": [
    "salid=pd.DataFrame(salid,columns=['accuracy','estimator'])"
   ]
  },
  {
   "cell_type": "code",
   "execution_count": 26,
   "metadata": {},
   "outputs": [
    {
     "data": {
      "text/html": [
       "<div>\n",
       "<style scoped>\n",
       "    .dataframe tbody tr th:only-of-type {\n",
       "        vertical-align: middle;\n",
       "    }\n",
       "\n",
       "    .dataframe tbody tr th {\n",
       "        vertical-align: top;\n",
       "    }\n",
       "\n",
       "    .dataframe thead th {\n",
       "        text-align: right;\n",
       "    }\n",
       "</style>\n",
       "<table border=\"1\" class=\"dataframe\">\n",
       "  <thead>\n",
       "    <tr style=\"text-align: right;\">\n",
       "      <th></th>\n",
       "      <th>accuracy</th>\n",
       "      <th>estimator</th>\n",
       "    </tr>\n",
       "  </thead>\n",
       "  <tbody>\n",
       "    <tr>\n",
       "      <th>29</th>\n",
       "      <td>0.99446</td>\n",
       "      <td>300</td>\n",
       "    </tr>\n",
       "  </tbody>\n",
       "</table>\n",
       "</div>"
      ],
      "text/plain": [
       "    accuracy  estimator\n",
       "29   0.99446        300"
      ]
     },
     "execution_count": 26,
     "metadata": {},
     "output_type": "execute_result"
    }
   ],
   "source": [
    "salid[salid.iloc[:,1]==max(salid.iloc[:,1])]"
   ]
  },
  {
   "cell_type": "markdown",
   "metadata": {},
   "source": [
    "### Tuning max_features"
   ]
  },
  {
   "cell_type": "code",
   "execution_count": 27,
   "metadata": {},
   "outputs": [
    {
     "name": "stdout",
     "output_type": "stream",
     "text": [
      "1\n",
      "2\n",
      "3\n",
      "4\n",
      "5\n",
      "6\n",
      "7\n",
      "8\n",
      "9\n",
      "10\n",
      "11\n",
      "12\n",
      "13\n",
      "14\n",
      "15\n"
     ]
    }
   ],
   "source": [
    "# list to store the average Accuracy for each value of max_features\n",
    "accuracy_scores = []\n",
    "salid=[]\n",
    "#print(range(X_train.shape[1]1))\n",
    "\n",
    "#for feature in range(1,X_train.shape[1],1):\n",
    "#    print(feature)\n",
    "\n",
    "for feature in range(1,(X_train.shape[1]+1)):\n",
    "    clf = RandomForestClassifier(n_estimators=300, max_features=feature, random_state=1, n_jobs=-1)\n",
    "    acc = cross_val_score(clf, X_train, Y_train, cv=2, scoring='accuracy')\n",
    "    tupla=(np.mean(acc),feature)\n",
    "    salid.append(tupla)\n",
    "    accuracy_scores.append(np.mean(acc))\n",
    "    print(feature)"
   ]
  },
  {
   "cell_type": "code",
   "execution_count": 28,
   "metadata": {},
   "outputs": [
    {
     "data": {
      "text/plain": [
       "Text(0, 0.5, 'Accuracy')"
      ]
     },
     "execution_count": 28,
     "metadata": {},
     "output_type": "execute_result"
    },
    {
     "data": {
      "image/png": "[encoded data removed]",
      "text/plain": [
       "<Figure size 432x288 with 1 Axes>"
      ]
     },
     "metadata": {
      "needs_background": "light"
     },
     "output_type": "display_data"
    }
   ],
   "source": [
    "plt.plot(range(1,(X_train.shape[1]+1)), accuracy_scores)\n",
    "plt.xlabel('max_features')\n",
    "plt.ylabel('Accuracy')"
   ]
  },
  {
   "cell_type": "code",
   "execution_count": 29,
   "metadata": {},
   "outputs": [],
   "source": [
    "salid=pd.DataFrame(salid,columns=['accuracy','max_feature'])"
   ]
  },
  {
   "cell_type": "code",
   "execution_count": 30,
   "metadata": {},
   "outputs": [
    {
     "name": "stdout",
     "output_type": "stream",
     "text": [
      "   accuracy  max_feature\n",
      "2  0.994357            3\n"
     ]
    }
   ],
   "source": [
    "print(salid[salid.iloc[:,0]==max(salid.iloc[:,0])])\n",
    "#salid"
   ]
  },
  {
   "cell_type": "markdown",
   "metadata": {},
   "source": [
    "## Ajustando random forest:"
   ]
  },
  {
   "cell_type": "code",
   "execution_count": 31,
   "metadata": {},
   "outputs": [
    {
     "data": {
      "text/plain": [
       "RandomForestClassifier(bootstrap=True, class_weight=None, criterion='gini',\n",
       "            max_depth=None, max_features=3, max_leaf_nodes=None,\n",
       "            min_impurity_decrease=0.0, min_impurity_split=None,\n",
       "            min_samples_leaf=1, min_samples_split=2,\n",
       "            min_weight_fraction_leaf=0.0, n_estimators=300, n_jobs=-1,\n",
       "            oob_score=False, random_state=1, verbose=0, warm_start=False)"
      ]
     },
     "execution_count": 31,
     "metadata": {},
     "output_type": "execute_result"
    }
   ],
   "source": [
    "# max_features=6 is best and n_estimators=200 is sufficiently large\n",
    "clf = RandomForestClassifier(n_estimators=300, max_features=3, random_state=1, n_jobs=-1)\n",
    "clf.fit(X_train, Y_train)"
   ]
  },
  {
   "cell_type": "code",
   "execution_count": 32,
   "metadata": {},
   "outputs": [],
   "source": [
    "y_pred=clf.predict(X_test)"
   ]
  },
  {
   "cell_type": "code",
   "execution_count": 33,
   "metadata": {},
   "outputs": [
    {
     "name": "stdout",
     "output_type": "stream",
     "text": [
      "0.9941610399596319\n",
      "0.13523131672597866\n",
      "0.07821160743397457\n"
     ]
    }
   ],
   "source": [
    "print(metrics.accuracy_score(Y_test, y_pred)) #ACCURACY\n",
    "print(metrics.f1_score(Y_test, y_pred)) #F1-SCORE\n",
    "print(metrics.fbeta_score(Y_test, y_pred, beta=10)) #F_BETA-SCORE"
   ]
  },
  {
   "cell_type": "markdown",
   "metadata": {},
   "source": [
    "# Exercise 15.2\n",
    "\n",
    "Under-sample the negative class using random-under-sampling\n",
    "\n",
    "Which is parameter for target_percentage did you choose?\n",
    "How the results change?\n",
    "\n",
    "**Only apply under-sampling to the training set, evaluate using the whole test set**"
   ]
  },
  {
   "cell_type": "code",
   "execution_count": 31,
   "metadata": {},
   "outputs": [],
   "source": [
    "# Instanciate a PCA object for the sake of easy visualisation\n",
    "pca = PCA(n_components = 2)\n",
    "\n",
    "# Fit and transform x to visualise inside a 2D feature space\n",
    "x_vis = pca.fit_transform(X_train)"
   ]
  },
  {
   "cell_type": "code",
   "execution_count": 32,
   "metadata": {},
   "outputs": [],
   "source": [
    "def UnderSampling(X, y, target_percentage=0.5, seed=None):\n",
    "    # Assuming minority class is the positive\n",
    "    n_samples = y.shape[0]\n",
    "    n_samples_0 = (y == 0).sum()\n",
    "    n_samples_1 = (y == 1).sum()\n",
    "\n",
    "    n_samples_0_new =  n_samples_1 / target_percentage - n_samples_1\n",
    "    n_samples_0_new_per = n_samples_0_new / n_samples_0\n",
    "\n",
    "    filter_ = y == 0\n",
    "\n",
    "    np.random.seed(seed)\n",
    "    rand_1 = np.random.binomial(n=1, p=n_samples_0_new_per, size=n_samples)\n",
    "    \n",
    "    filter_ = filter_ & rand_1\n",
    "    filter_ = filter_ | (y == 1)\n",
    "    filter_ = filter_.astype(bool)\n",
    "    \n",
    "    return X[filter_], y[filter_]"
   ]
  },
  {
   "cell_type": "code",
   "execution_count": 33,
   "metadata": {},
   "outputs": [],
   "source": [
    "def plot_two_classes(X, y, subplot=False, size=(10, 10)):\n",
    "    # Plot the two classes\n",
    "    if subplot == False:\n",
    "        fig, subplot = plt.subplots(nrows=1, ncols=1, figsize=size)\n",
    "        \n",
    "    subplot.scatter(X[y==0, 0], X[y==0, 1], label=\"Class #0\", \n",
    "                    alpha=0.5, s=70)\n",
    "    subplot.scatter(X[y==1, 0], X[y==1, 1], label=\"Class #1\", \n",
    "                    alpha=0.5, s=70)\n",
    "    subplot.legend()\n",
    "    return subplot\n",
    "\n",
    "#plot_two_classes(x_vis, y)"
   ]
  },
  {
   "cell_type": "code",
   "execution_count": 34,
   "metadata": {},
   "outputs": [
    {
     "data": {
      "text/plain": [
       "<matplotlib.axes._subplots.AxesSubplot at 0x1a1e279978>"
      ]
     },
     "execution_count": 34,
     "metadata": {},
     "output_type": "execute_result"
    },
    {
     "data": {
      "image/png": "[encoded data removed]",
      "text/plain": [
       "<Figure size 360x360 with 1 Axes>"
      ]
     },
     "metadata": {
      "needs_background": "light"
     },
     "output_type": "display_data"
    }
   ],
   "source": [
    "plot_two_classes(x_vis, Y_train, size=(5, 5))"
   ]
  },
  {
   "cell_type": "code",
   "execution_count": 35,
   "metadata": {},
   "outputs": [
    {
     "name": "stdout",
     "output_type": "stream",
     "text": [
      "Target percentage 0.1\n",
      "y.shape =  5497 y.mean() =  0.100418410041841\n"
     ]
    },
    {
     "data": {
      "image/png": "[encoded data removed]",
      "text/plain": [
       "<Figure size 360x360 with 1 Axes>"
      ]
     },
     "metadata": {
      "needs_background": "light"
     },
     "output_type": "display_data"
    },
    {
     "name": "stdout",
     "output_type": "stream",
     "text": [
      "Target percentage 0.2\n",
      "y.shape =  2755 y.mean() =  0.20036297640653358\n"
     ]
    },
    {
     "data": {
      "image/png": "[encoded data removed]",
      "text/plain": [
       "<Figure size 360x360 with 1 Axes>"
      ]
     },
     "metadata": {
      "needs_background": "light"
     },
     "output_type": "display_data"
    },
    {
     "name": "stdout",
     "output_type": "stream",
     "text": [
      "Target percentage 0.3\n",
      "y.shape =  1790 y.mean() =  0.30837988826815643\n"
     ]
    },
    {
     "data": {
      "image/png": "[encoded data removed]",
      "text/plain": [
       "<Figure size 360x360 with 1 Axes>"
      ]
     },
     "metadata": {
      "needs_background": "light"
     },
     "output_type": "display_data"
    },
    {
     "name": "stdout",
     "output_type": "stream",
     "text": [
      "Target percentage 0.4\n",
      "y.shape =  1333 y.mean() =  0.41410352588147037\n"
     ]
    },
    {
     "data": {
      "image/png": "[encoded data removed]",
      "text/plain": [
       "<Figure size 360x360 with 1 Axes>"
      ]
     },
     "metadata": {
      "needs_background": "light"
     },
     "output_type": "display_data"
    },
    {
     "name": "stdout",
     "output_type": "stream",
     "text": [
      "Target percentage 0.5\n",
      "y.shape =  1079 y.mean() =  0.5115848007414272\n"
     ]
    },
    {
     "data": {
      "image/png": "[encoded data removed]",
      "text/plain": [
       "<Figure size 360x360 with 1 Axes>"
      ]
     },
     "metadata": {
      "needs_background": "light"
     },
     "output_type": "display_data"
    }
   ],
   "source": [
    "for target_percentage in [0.1, 0.2, 0.3, 0.4, 0.5]:\n",
    "    X_u, y_u = UnderSampling(x_vis, Y_train, target_percentage, 1)\n",
    "    print('Target percentage', target_percentage)\n",
    "    print('y.shape = ',y_u.shape[0], 'y.mean() = ', y_u.mean())\n",
    "    plot_two_classes(X_u, y_u, size=(5, 5))\n",
    "    plt.show()  "
   ]
  },
  {
   "cell_type": "markdown",
   "metadata": {},
   "source": [
    "## Ajustando los modelos para cada target_percentage:"
   ]
  },
  {
   "cell_type": "code",
   "execution_count": 286,
   "metadata": {},
   "outputs": [
    {
     "name": "stdout",
     "output_type": "stream",
     "text": [
      "TARGET_PERCENTAGE\n",
      "0.1\n",
      "0.9924309777254487\n",
      "0.0\n",
      "0.0\n",
      "222222\n",
      "0.9758271860057188\n",
      "0.11287477954144623\n",
      "0.25459844814683524\n",
      "33333\n",
      "0.9864959031165149\n",
      "0.21727019498607242\n",
      "0.31546069755335765\n",
      "TARGET_PERCENTAGE\n",
      "0.2\n",
      "0.9830357786481486\n",
      "0.027548209366391185\n",
      "0.04043072735278811\n",
      "222222\n",
      "0.952951918687075\n",
      "0.08075117370892018\n",
      "0.32920219821868485\n",
      "33333\n",
      "0.9596559098445346\n",
      "0.1158504476040021\n",
      "0.4247916188728301\n",
      "TARGET_PERCENTAGE\n",
      "0.3\n",
      "0.9649902683999327\n",
      "0.0344599072233267\n",
      "0.10192516689954975\n",
      "222222\n",
      "0.8567892928370617\n",
      "0.04487179487179487\n",
      "0.4636825709132644\n",
      "33333\n"
     ]
    },
    {
     "name": "stderr",
     "output_type": "stream",
     "text": [
      "/Users/juand./anaconda3/lib/python3.7/site-packages/sklearn/linear_model/logistic.py:758: ConvergenceWarning: lbfgs failed to converge. Increase the number of iterations.\n",
      "  \"of iterations.\", ConvergenceWarning)\n"
     ]
    },
    {
     "name": "stdout",
     "output_type": "stream",
     "text": [
      "0.9059759233005743\n",
      "0.06544064962980654\n",
      "0.48649883974404057\n",
      "TARGET_PERCENTAGE\n",
      "0.4\n",
      "0.8974217266982243\n",
      "0.033069082672706675\n",
      "0.25716777118939654\n",
      "222222\n",
      "0.8343465410769637\n",
      "0.041168289290681497\n",
      "0.47536969311496263\n",
      "33333\n"
     ]
    },
    {
     "name": "stderr",
     "output_type": "stream",
     "text": [
      "/Users/juand./anaconda3/lib/python3.7/site-packages/sklearn/linear_model/logistic.py:758: ConvergenceWarning: lbfgs failed to converge. Increase the number of iterations.\n",
      "  \"of iterations.\", ConvergenceWarning)\n"
     ]
    },
    {
     "name": "stdout",
     "output_type": "stream",
     "text": [
      "0.8441021697863854\n",
      "0.046723479282985605\n",
      "0.51701490615241\n",
      "TARGET_PERCENTAGE\n",
      "0.5\n",
      "0.39003291923973377\n",
      "0.017113873078561194\n",
      "0.4456890699253224\n",
      "222222\n",
      "0.7648076507196578\n",
      "0.02993062438057483\n",
      "0.4440529917018488\n",
      "33333\n"
     ]
    },
    {
     "name": "stderr",
     "output_type": "stream",
     "text": [
      "/Users/juand./anaconda3/lib/python3.7/site-packages/sklearn/linear_model/logistic.py:758: ConvergenceWarning: lbfgs failed to converge. Increase the number of iterations.\n",
      "  \"of iterations.\", ConvergenceWarning)\n"
     ]
    },
    {
     "name": "stdout",
     "output_type": "stream",
     "text": [
      "0.7628613307062018\n",
      "0.03481662591687042\n",
      "0.5214037122969838\n"
     ]
    }
   ],
   "source": [
    "for target_percentage in [0.1, 0.2, 0.3, 0.4, 0.5]:\n",
    "    X_u, y_u = UnderSampling(X_train, Y_train, target_percentage,1)\n",
    "    \n",
    "    print('TARGET_PERCENTAGE')\n",
    "    print(target_percentage)\n",
    "    \n",
    "    ######\n",
    "    logreg = LogisticRegression(solver='lbfgs',max_iter =200) #cambio en parametros para lograr convergencia.\n",
    "    logreg.fit(X_u, y_u)\n",
    "    y_pred=logreg.predict(X_test)\n",
    "    print(metrics.accuracy_score(Y_test, y_pred)) #ACCURACY\n",
    "    print(metrics.f1_score(Y_test, y_pred)) #F1-SCORE\n",
    "    print(metrics.fbeta_score(Y_test, y_pred, beta=10)) #F_BETA-SCORE\n",
    "    ######\n",
    "    \n",
    "    print('222222')\n",
    "    \n",
    "    ######\n",
    "    treeclf = DecisionTreeClassifier(max_depth=7, random_state=1)\n",
    "    treeclf.fit(X_u, y_u)\n",
    "    y_pred=treeclf.predict(X_test)\n",
    "    print(metrics.accuracy_score(Y_test, y_pred)) #ACCURACY\n",
    "    print(metrics.f1_score(Y_test, y_pred)) #F1-SCORE\n",
    "    print(metrics.fbeta_score(Y_test, y_pred, beta=10)) #F_BETA-SCORE\n",
    "    ######\n",
    "    \n",
    "    \n",
    "    print('33333')\n",
    "    \n",
    "    ######\n",
    "    clf = RandomForestClassifier(n_estimators=300, max_features=3, random_state=1, n_jobs=-1)\n",
    "    clf.fit(X_u, y_u)\n",
    "    y_pred=clf.predict(X_test)\n",
    "    print(metrics.accuracy_score(Y_test, y_pred)) #ACCURACY\n",
    "    print(metrics.f1_score(Y_test, y_pred)) #F1-SCORE\n",
    "    print(metrics.fbeta_score(Y_test, y_pred, beta=10)) #F_BETA-SCORE\n",
    "    ######\n",
    "    \n",
    "    \n",
    "    #print(y_u.sum()/y_u.shape[0])"
   ]
  },
  {
   "cell_type": "markdown",
   "metadata": {},
   "source": [
    "# Exercise 15.3\n",
    "\n",
    "Same analysis using random-over-sampling"
   ]
  },
  {
   "cell_type": "code",
   "execution_count": 36,
   "metadata": {},
   "outputs": [],
   "source": [
    "def OverSampling(X, y, target_percentage=0.5, seed=None):\n",
    "    # Assuming minority class is the positive\n",
    "    n_samples = y.shape[0] #numero total de muestras\n",
    "    n_samples_0 = (y == 0).sum() #numero total de ceros (mayoritaria)\n",
    "    n_samples_1 = (y == 1).sum() #numero total de unos (minoritaria)\n",
    "\n",
    "    n_samples_1_new =  -target_percentage * n_samples_0 / (target_percentage- 1) \n",
    "    #numero de muestras a seleccionar de la minoritaria\n",
    "\n",
    "    np.random.seed(seed)\n",
    "    filter_ = np.random.choice(X[y == 1].shape[0], int(n_samples_1_new)) #muestras de la minoritaria\n",
    "    # filter_ is within the positives, change to be of all\n",
    "    filter_ = np.nonzero(y == 1)[0][filter_] \n",
    "    \n",
    "    filter_ = np.concatenate((filter_, np.nonzero(y == 0)[0]), axis=0)\n",
    "    \n",
    "    return X.iloc[filter_], y.iloc[filter_]"
   ]
  },
  {
   "cell_type": "code",
   "execution_count": 288,
   "metadata": {},
   "outputs": [
    {
     "name": "stdout",
     "output_type": "stream",
     "text": [
      "Target percentage 0.1\n",
      "y.shape =  107280 y.mean() =  0.1\n"
     ]
    },
    {
     "data": {
      "image/png": "[encoded data removed]",
      "text/plain": [
       "<Figure size 360x360 with 1 Axes>"
      ]
     },
     "metadata": {
      "needs_background": "light"
     },
     "output_type": "display_data"
    },
    {
     "name": "stdout",
     "output_type": "stream",
     "text": [
      "Target percentage 0.2\n",
      "y.shape =  120690 y.mean() =  0.2\n"
     ]
    },
    {
     "data": {
      "image/png": "[encoded data removed]",
      "text/plain": [
       "<Figure size 360x360 with 1 Axes>"
      ]
     },
     "metadata": {
      "needs_background": "light"
     },
     "output_type": "display_data"
    },
    {
     "name": "stdout",
     "output_type": "stream",
     "text": [
      "Target percentage 0.3\n",
      "y.shape =  137931 y.mean() =  0.29999782499945626\n"
     ]
    },
    {
     "data": {
      "image/png": "[encoded data removed]",
      "text/plain": [
       "<Figure size 360x360 with 1 Axes>"
      ]
     },
     "metadata": {
      "needs_background": "light"
     },
     "output_type": "display_data"
    },
    {
     "name": "stdout",
     "output_type": "stream",
     "text": [
      "Target percentage 0.4\n",
      "y.shape =  160920 y.mean() =  0.4\n"
     ]
    },
    {
     "data": {
      "image/png": "[encoded data removed]",
      "text/plain": [
       "<Figure size 360x360 with 1 Axes>"
      ]
     },
     "metadata": {
      "needs_background": "light"
     },
     "output_type": "display_data"
    },
    {
     "name": "stdout",
     "output_type": "stream",
     "text": [
      "Target percentage 0.5\n",
      "y.shape =  193104 y.mean() =  0.5\n"
     ]
    },
    {
     "data": {
      "image/png": "[encoded data removed]",
      "text/plain": [
       "<Figure size 360x360 with 1 Axes>"
      ]
     },
     "metadata": {
      "needs_background": "light"
     },
     "output_type": "display_data"
    }
   ],
   "source": [
    "for target_percentage in [0.1, 0.2, 0.3, 0.4, 0.5]:\n",
    "    X_u, y_u = OverSampling(X_train, Y_train, target_percentage, 1)\n",
    "    # Instanciate a PCA object for the sake of easy visualisation\n",
    "    pca = PCA(n_components = 2)\n",
    "    # Fit and transform x to visualise inside a 2D feature space\n",
    "    x_vis = pca.fit_transform(X_u)\n",
    "    print('Target percentage', target_percentage)\n",
    "    print('y.shape = ',y_u.shape[0], 'y.mean() = ', y_u.mean())\n",
    "    plot_two_classes(x_vis, y_u, size=(5, 5))\n",
    "    plt.show()  "
   ]
  },
  {
   "cell_type": "code",
   "execution_count": 289,
   "metadata": {},
   "outputs": [
    {
     "name": "stdout",
     "output_type": "stream",
     "text": [
      "TARGET_PERCENTAGE\n",
      "0.1\n",
      "0.1\n",
      "0.9935843525482375\n",
      "0.0\n",
      "0.0\n",
      "222222\n",
      "0.9872888483071821\n",
      "0.1589825119236884\n",
      "0.20294164925253178\n",
      "33333\n",
      "0.9938006103275104\n",
      "0.17834394904458598\n",
      "0.11510439985347388\n",
      "TARGET_PERCENTAGE\n",
      "0.2\n",
      "0.2\n",
      "0.9905807722805584\n",
      "0.010101010101010102\n",
      "0.00819439373656241\n",
      "222222\n",
      "0.9528798327606507\n",
      "0.08321645628798505\n",
      "0.3405698264757142\n",
      "33333\n",
      "0.9937044957589447\n",
      "0.16025641025641024\n",
      "0.10278015223674035\n",
      "TARGET_PERCENTAGE\n",
      "0.3\n",
      "0.29999782499945626\n"
     ]
    },
    {
     "name": "stderr",
     "output_type": "stream",
     "text": [
      "/Users/juand./anaconda3/lib/python3.7/site-packages/sklearn/linear_model/logistic.py:758: ConvergenceWarning: lbfgs failed to converge. Increase the number of iterations.\n",
      "  \"of iterations.\", ConvergenceWarning)\n"
     ]
    },
    {
     "name": "stdout",
     "output_type": "stream",
     "text": [
      "0.9773169618184876\n",
      "0.03476482617586912\n",
      "0.0680458130226291\n",
      "222222\n",
      "0.9334646899103731\n",
      "0.07792207792207793\n",
      "0.43352410301562844\n",
      "33333\n",
      "0.993728524401086\n",
      "0.17142857142857143\n",
      "0.11098901098901098\n",
      "TARGET_PERCENTAGE\n",
      "0.4\n",
      "0.4\n"
     ]
    },
    {
     "name": "stderr",
     "output_type": "stream",
     "text": [
      "/Users/juand./anaconda3/lib/python3.7/site-packages/sklearn/linear_model/logistic.py:758: ConvergenceWarning: lbfgs failed to converge. Increase the number of iterations.\n",
      "  \"of iterations.\", ConvergenceWarning)\n"
     ]
    },
    {
     "name": "stdout",
     "output_type": "stream",
     "text": [
      "0.9001609919023476\n",
      "0.033046311380032584\n",
      "0.2511557859344353\n",
      "222222\n",
      "0.8789437008914627\n",
      "0.05193827625141136\n",
      "0.4713720450471778\n",
      "33333\n",
      "0.9938486676117932\n",
      "0.1688311688311688\n",
      "0.10690876521597527\n",
      "TARGET_PERCENTAGE\n",
      "0.5\n",
      "0.5\n",
      "0.6494941970829229\n",
      "0.020678079892581407\n",
      "0.3972924648786717\n",
      "222222\n",
      "0.791815844486628\n",
      "0.03518930957683742\n",
      "0.4801564615616067\n",
      "33333\n",
      "0.9938246389696518\n",
      "0.15737704918032785\n",
      "0.09869706840390881\n"
     ]
    }
   ],
   "source": [
    "for target_percentage in [0.1, 0.2, 0.3, 0.4, 0.5]:\n",
    "    X_u, y_u = OverSampling(X_train, Y_train, target_percentage,1)\n",
    "    \n",
    "    print('TARGET_PERCENTAGE')\n",
    "    print(target_percentage)\n",
    "    print(y_u.mean())\n",
    "    \n",
    "    ######\n",
    "    logreg = LogisticRegression(solver='lbfgs',max_iter =200) #cambio en parametros para lograr convergencia.\n",
    "    logreg.fit(X_u, y_u)\n",
    "    y_pred=logreg.predict(X_test)\n",
    "    print(metrics.accuracy_score(Y_test, y_pred)) #ACCURACY\n",
    "    print(metrics.f1_score(Y_test, y_pred)) #F1-SCORE\n",
    "    print(metrics.fbeta_score(Y_test, y_pred, beta=10)) #F_BETA-SCORE\n",
    "    ######\n",
    "    \n",
    "    print('222222')\n",
    "    \n",
    "    ######\n",
    "    treeclf = DecisionTreeClassifier(max_depth=7, random_state=1)\n",
    "    treeclf.fit(X_u, y_u)\n",
    "    y_pred=treeclf.predict(X_test)\n",
    "    print(metrics.accuracy_score(Y_test, y_pred)) #ACCURACY\n",
    "    print(metrics.f1_score(Y_test, y_pred)) #F1-SCORE\n",
    "    print(metrics.fbeta_score(Y_test, y_pred, beta=10)) #F_BETA-SCORE\n",
    "    ######\n",
    "    \n",
    "    \n",
    "    print('33333')\n",
    "    \n",
    "    ######\n",
    "    clf = RandomForestClassifier(n_estimators=300, max_features=3, random_state=1, n_jobs=-1)\n",
    "    clf.fit(X_u, y_u)\n",
    "    y_pred=clf.predict(X_test)\n",
    "    print(metrics.accuracy_score(Y_test, y_pred)) #ACCURACY\n",
    "    print(metrics.f1_score(Y_test, y_pred)) #F1-SCORE\n",
    "    print(metrics.fbeta_score(Y_test, y_pred, beta=10)) #F_BETA-SCORE\n",
    "    ######\n",
    "    \n",
    "    \n",
    "    #print(y_u.sum()/y_u.shape[0])"
   ]
  },
  {
   "cell_type": "markdown",
   "metadata": {},
   "source": [
    "# Exercise 15.4 (3 points)\n",
    "\n",
    "Evaluate the results using SMOTE\n",
    "\n",
    "Which parameters did you choose?"
   ]
  },
  {
   "cell_type": "code",
   "execution_count": 41,
   "metadata": {},
   "outputs": [],
   "source": [
    "pca = PCA(n_components = 2)\n",
    "X_train_a = X_train\n",
    "X_train_a = pca.fit_transform(X_train_a)"
   ]
  },
  {
   "cell_type": "code",
   "execution_count": 42,
   "metadata": {},
   "outputs": [],
   "source": [
    "def SMOTE(X, y, target_percentage=0.5, k=5, seed=None):\n",
    "    \n",
    "    n_samples_0 = (y == 0).sum()\n",
    "    n_samples_1 = (y == 1).sum() #numero total de unos (minoritaria)\n",
    "\n",
    "    # New samples\n",
    "    n_samples_1_new =  int(-target_percentage * n_samples_0 / (target_percentage- 1) - n_samples_1)\n",
    "    \n",
    "    # A matrix to store the synthetic samples\n",
    "    new = np.zeros((n_samples_1_new, X_train.shape[1]))\n",
    "    \n",
    "    # Create seeds\n",
    "    np.random.seed(seed)\n",
    "    seeds = np.random.randint(1, 1000000, 3)\n",
    "    \n",
    "    # Select examples to use as base\n",
    "    np.random.seed(seeds[0])\n",
    "    sel_ = np.random.choice(y[y==1].shape[0], n_samples_1_new)\n",
    "    \n",
    "    # Define random seeds (2 per example)\n",
    "    np.random.seed(seeds[1])\n",
    "    nn__ = np.random.choice(k, n_samples_1_new)\n",
    "    np.random.seed(seeds[2])\n",
    "    steps = np.random.uniform(size=n_samples_1_new)  \n",
    "\n",
    "    # For each selected examples create one synthetic case\n",
    "    for i, sel in enumerate(sel_):\n",
    "        # Select neighbor\n",
    "        nn_ = nn__[i]\n",
    "        step = steps[i]\n",
    "        # Create new sample\n",
    "        new[i, :] = X[y==1].iloc[sel] - step * (X[y==1].iloc[sel] - X[y==1].iloc[nn_])\n",
    "    \n",
    "    X = np.vstack((X, new))\n",
    "    y = np.append(y, np.ones(n_samples_1_new))\n",
    "    \n",
    "    return X, y"
   ]
  },
  {
   "cell_type": "code",
   "execution_count": 43,
   "metadata": {},
   "outputs": [],
   "source": [
    "def SMOTE_(X, y, target_percentage=0.5, k=5, seed=None):\n",
    "    \n",
    "    n_samples_0 = (y == 0).sum()\n",
    "    n_samples_1 = (y == 1).sum() #numero total de unos (minoritaria)\n",
    "\n",
    "\n",
    " \n",
    "    # New samples\n",
    "    n_samples_1_new =  int(-target_percentage * n_samples_0 / (target_percentage- 1) - n_samples_1)\n",
    "    \n",
    "    # A matrix to store the synthetic samples\n",
    "    new = np.zeros((n_samples_1_new, X_train_a.shape[1]))\n",
    "    \n",
    "    # Create seeds\n",
    "    np.random.seed(seed)\n",
    "    seeds = np.random.randint(1, 1000000, 3)\n",
    "    \n",
    "    # Select examples to use as base\n",
    "    np.random.seed(seeds[0])\n",
    "    sel_ = np.random.choice(y[y==1].shape[0], n_samples_1_new)\n",
    "    \n",
    "    # Define random seeds (2 per example)\n",
    "    np.random.seed(seeds[1])\n",
    "    nn__ = np.random.choice(k, n_samples_1_new)\n",
    "    np.random.seed(seeds[2])\n",
    "    steps = np.random.uniform(size=n_samples_1_new)  \n",
    "\n",
    "    # For each selected examples create one synthetic case\n",
    "    for i, sel in enumerate(sel_):\n",
    "        # Select neighbor\n",
    "        nn_ = nn__[i]\n",
    "        step = steps[i]\n",
    "        # Create new sample\n",
    "        new[i, :] = X[y==1][sel] - step * (X[y==1][sel] - X[y==1][nn_])\n",
    "    \n",
    "    X = np.vstack((X, new))\n",
    "    y = np.append(y, np.ones(n_samples_1_new))\n",
    "    \n",
    "    return X, y"
   ]
  },
  {
   "cell_type": "code",
   "execution_count": 49,
   "metadata": {},
   "outputs": [
    {
     "name": "stdout",
     "output_type": "stream",
     "text": [
      "Target percentage 0.25 k  5\n",
      "y.shape =  128736 y.mean() =  0.25\n"
     ]
    },
    {
     "data": {
      "image/png": "[encoded data removed]",
      "text/plain": [
       "<Figure size 360x360 with 1 Axes>"
      ]
     },
     "metadata": {
      "needs_background": "light"
     },
     "output_type": "display_data"
    },
    {
     "name": "stdout",
     "output_type": "stream",
     "text": [
      "Random Forest  0.25 Media:  0.25 Tamaño:  128736\n",
      "Accuracy:  0.99\n",
      "F1_Score :  0.13\n",
      "F_BETA-SCORE:  0.08\n",
      "Decision Tree  0.25 Media:  0.25 Tamaño:  128736\n",
      "Accuracy:  0.98\n",
      "F1_Score :  0.02\n",
      "F_BETA-SCORE:  0.04\n",
      "Logistic  0.25 Media:  0.25 Tamaño:  128736\n",
      "Accuracy:  0.98\n",
      "F1_Score :  0.02\n",
      "F_BETA-SCORE:  0.03\n",
      "Target percentage 0.25 k  15\n",
      "y.shape =  128736 y.mean() =  0.25\n"
     ]
    },
    {
     "data": {
      "image/png": "[encoded data removed]",
      "text/plain": [
       "<Figure size 360x360 with 1 Axes>"
      ]
     },
     "metadata": {
      "needs_background": "light"
     },
     "output_type": "display_data"
    },
    {
     "name": "stdout",
     "output_type": "stream",
     "text": [
      "Random Forest  0.25 Media:  0.25 Tamaño:  128736\n",
      "Accuracy:  0.99\n",
      "F1_Score :  0.16\n",
      "F_BETA-SCORE:  0.11\n",
      "Decision Tree  0.25 Media:  0.25 Tamaño:  128736\n",
      "Accuracy:  0.99\n",
      "F1_Score :  0.09\n",
      "F_BETA-SCORE:  0.12\n",
      "Logistic  0.25 Media:  0.25 Tamaño:  128736\n",
      "Accuracy:  0.98\n",
      "F1_Score :  0.03\n",
      "F_BETA-SCORE:  0.07\n",
      "Target percentage 0.5 k  5\n",
      "y.shape =  193104 y.mean() =  0.5\n"
     ]
    },
    {
     "data": {
      "image/png": "[encoded data removed]",
      "text/plain": [
       "<Figure size 360x360 with 1 Axes>"
      ]
     },
     "metadata": {
      "needs_background": "light"
     },
     "output_type": "display_data"
    },
    {
     "name": "stderr",
     "output_type": "stream",
     "text": [
      "/Users/juand./anaconda3/lib/python3.7/site-packages/sklearn/linear_model/logistic.py:758: ConvergenceWarning: lbfgs failed to converge. Increase the number of iterations.\n",
      "  \"of iterations.\", ConvergenceWarning)\n"
     ]
    },
    {
     "name": "stdout",
     "output_type": "stream",
     "text": [
      "Random Forest  0.5 Media:  0.5 Tamaño:  193104\n",
      "Accuracy:  0.99\n",
      "F1_Score :  0.12\n",
      "F_BETA-SCORE:  0.08\n",
      "Decision Tree  0.5 Media:  0.5 Tamaño:  193104\n",
      "Accuracy:  0.95\n",
      "F1_Score :  0.02\n",
      "F_BETA-SCORE:  0.08\n",
      "Logistic  0.5 Media:  0.5 Tamaño:  193104\n",
      "Accuracy:  0.63\n",
      "F1_Score :  0.02\n",
      "F_BETA-SCORE:  0.32\n",
      "Target percentage 0.5 k  15\n",
      "y.shape =  193104 y.mean() =  0.5\n"
     ]
    },
    {
     "data": {
      "image/png": "[encoded data removed]",
      "text/plain": [
       "<Figure size 360x360 with 1 Axes>"
      ]
     },
     "metadata": {
      "needs_background": "light"
     },
     "output_type": "display_data"
    },
    {
     "name": "stderr",
     "output_type": "stream",
     "text": [
      "/Users/juand./anaconda3/lib/python3.7/site-packages/sklearn/linear_model/logistic.py:758: ConvergenceWarning: lbfgs failed to converge. Increase the number of iterations.\n",
      "  \"of iterations.\", ConvergenceWarning)\n"
     ]
    },
    {
     "name": "stdout",
     "output_type": "stream",
     "text": [
      "Random Forest  0.5 Media:  0.5 Tamaño:  193104\n",
      "Accuracy:  0.99\n",
      "F1_Score :  0.18\n",
      "F_BETA-SCORE:  0.13\n",
      "Decision Tree  0.5 Media:  0.5 Tamaño:  193104\n",
      "Accuracy:  0.84\n",
      "F1_Score :  0.02\n",
      "F_BETA-SCORE:  0.28\n",
      "Logistic  0.5 Media:  0.5 Tamaño:  193104\n",
      "Accuracy:  0.64\n",
      "F1_Score :  0.02\n",
      "F_BETA-SCORE:  0.38\n"
     ]
    }
   ],
   "source": [
    "for target_percentage in [0.25, 0.5]:\n",
    "    for k in [5, 15]:\n",
    "        X_u, y_u = SMOTE(X_train, Y_train, target_percentage, k, seed=3)\n",
    "        X_u_a, y_u_a = SMOTE_(X_train_a, Y_train, target_percentage, k, seed=3)\n",
    "        print('Target percentage', target_percentage, 'k ', k)\n",
    "        print('y.shape = ',y_u_a.shape[0], 'y.mean() = ', y_u_a.mean())\n",
    "        plot_two_classes(X_u_a, y_u_a, size=(5, 5))\n",
    "        plt.show()    \n",
    "        rfc = RandomForestClassifier(n_estimators=300,max_features=3 , random_state=1, n_jobs=-1)\n",
    "        treeclf = DecisionTreeClassifier(max_depth=7, random_state=1)\n",
    "        logreg = LogisticRegression(solver='lbfgs',max_iter =200) #cambio en parametros para lograr convergencia.\n",
    "        treeclf.fit(X_u, y_u)\n",
    "        rfc.fit(X_u, y_u)\n",
    "        logreg.fit(X_u, y_u)\n",
    "        y_pred=rfc.predict(X_test)\n",
    "        y_pred_a = treeclf.predict(X_test)\n",
    "        y_pred_b = logreg.predict(X_test)\n",
    "        print('Random Forest ',target_percentage, 'Media: ',round(y_u.mean(),2), 'Tamaño: ',y_u.shape[0])\n",
    "        print('Accuracy: ',round(metrics.accuracy_score(Y_test, y_pred),2)) #ACCURACY\n",
    "        print('F1_Score : ',round(metrics.f1_score(Y_test, y_pred),2)) #F1-SCORE\n",
    "        print('F_BETA-SCORE: ',round(metrics.fbeta_score(Y_test, y_pred, beta=10),2)) #F_BETA-SCORE\n",
    "        print('Decision Tree ',target_percentage,'Media: ',round(y_u.mean(),2), 'Tamaño: ',y_u.shape[0])\n",
    "        print('Accuracy: ',round(metrics.accuracy_score(Y_test, y_pred_a),2)) #ACCURACY\n",
    "        print('F1_Score : ',round(metrics.f1_score(Y_test, y_pred_a),2)) #F1-SCORE\n",
    "        print('F_BETA-SCORE: ',round(metrics.fbeta_score(Y_test, y_pred_a, beta=10),2)) #F_BETA-SCORE\n",
    "        print('Logistic ',target_percentage, 'Media: ',round(y_u.mean(),2), 'Tamaño: ',y_u.shape[0])\n",
    "        print('Accuracy: ',round(metrics.accuracy_score(Y_test, y_pred_b),2)) #ACCURACY\n",
    "        print('F1_Score : ',round(metrics.f1_score(Y_test, y_pred_b),2)) #F1-SCORE\n",
    "        print('F_BETA-SCORE: ',round(metrics.fbeta_score(Y_test, y_pred_b, beta=10),2)) #F_BETA-SCORE"
   ]
  },
  {
   "cell_type": "markdown",
   "metadata": {},
   "source": [
    "# Exercise 15.5 (3 points)\n",
    "\n",
    "Evaluate the results using Adaptive Synthetic Sampling Approach for Imbalanced\n",
    "Learning (ADASYN)\n",
    "\n",
    "http://www.ele.uri.edu/faculty/he/PDFfiles/adasyn.pdf\n",
    "https://imbalanced-learn.readthedocs.io/en/stable/generated/imblearn.over_sampling.ADASYN.html#rf9172e970ca5-1"
   ]
  },
  {
   "cell_type": "code",
   "execution_count": 50,
   "metadata": {},
   "outputs": [],
   "source": [
    "from imblearn.over_sampling import ADASYN # doctest: +NORMALIZE_WHITESPACE"
   ]
  },
  {
   "cell_type": "code",
   "execution_count": 51,
   "metadata": {},
   "outputs": [],
   "source": [
    "ada = ADASYN()\n",
    "X_u, y_u = ada.fit_resample(X_train, Y_train)"
   ]
  },
  {
   "cell_type": "code",
   "execution_count": 52,
   "metadata": {},
   "outputs": [
    {
     "data": {
      "text/plain": [
       "0.4995412772706775"
      ]
     },
     "execution_count": 52,
     "metadata": {},
     "output_type": "execute_result"
    }
   ],
   "source": [
    "y_u.mean()"
   ]
  },
  {
   "cell_type": "code",
   "execution_count": 53,
   "metadata": {},
   "outputs": [
    {
     "name": "stdout",
     "output_type": "stream",
     "text": [
      "TARGET_PERCENTAGE\n",
      "0.5\n",
      "0.4995412772706775\n",
      "0.31672153206622294\n",
      "0.01591915836101883\n",
      "0.4370566875505635\n",
      "222222\n",
      "0.7840065357906625\n",
      "0.027900940845679678\n",
      "0.3889021550952182\n",
      "33333\n",
      "0.9929115505682774\n",
      "0.17827298050139276\n",
      "0.1313073860404648\n"
     ]
    }
   ],
   "source": [
    "    ada = ADASYN(random_state=42)\n",
    "    X_u, y_u = ada.fit_resample(X_train, Y_train)\n",
    "    \n",
    "    print('TARGET_PERCENTAGE')\n",
    "    print(target_percentage)\n",
    "    print(y_u.mean())\n",
    "    \n",
    "    ######\n",
    "    logreg = LogisticRegression(solver='lbfgs',max_iter =200) #cambio en parametros para lograr convergencia.\n",
    "    logreg.fit(X_u, y_u)\n",
    "    y_pred=logreg.predict(X_test)\n",
    "    print(metrics.accuracy_score(Y_test, y_pred)) #ACCURACY\n",
    "    print(metrics.f1_score(Y_test, y_pred)) #F1-SCORE\n",
    "    print(metrics.fbeta_score(Y_test, y_pred, beta=10)) #F_BETA-SCORE\n",
    "    ######\n",
    "    \n",
    "    print('222222')\n",
    "    \n",
    "    ######\n",
    "    treeclf = DecisionTreeClassifier(max_depth=7, random_state=1)\n",
    "    treeclf.fit(X_u, y_u)\n",
    "    y_pred=treeclf.predict(X_test)\n",
    "    print(metrics.accuracy_score(Y_test, y_pred)) #ACCURACY\n",
    "    print(metrics.f1_score(Y_test, y_pred)) #F1-SCORE\n",
    "    print(metrics.fbeta_score(Y_test, y_pred, beta=10)) #F_BETA-SCORE\n",
    "    ######\n",
    "    \n",
    "    \n",
    "    print('33333')\n",
    "    \n",
    "    ######\n",
    "    clf = RandomForestClassifier(n_estimators=300, max_features=3, random_state=1, n_jobs=-1)\n",
    "    clf.fit(X_u, y_u)\n",
    "    y_pred=clf.predict(X_test)\n",
    "    print(metrics.accuracy_score(Y_test, y_pred)) #ACCURACY\n",
    "    print(metrics.f1_score(Y_test, y_pred)) #F1-SCORE\n",
    "    print(metrics.fbeta_score(Y_test, y_pred, beta=10)) #F_BETA-SCORE\n",
    "    ######\n",
    "    \n",
    "    \n",
    "    #print(y_u.sum()/y_u.shape[0])"
   ]
  },
  {
   "cell_type": "markdown",
   "metadata": {},
   "source": [
    "# Exercise 15.6 (3 points)\n",
    "\n",
    "Compare and comment about the results"
   ]
  },
  {
   "cell_type": "markdown",
   "metadata": {
    "collapsed": true
   },
   "source": [
    "## Fijando el porcentaje de balanceo en 50%, los resultados que se obtienen se enceuntran en la siguiente tabla."
   ]
  },
  {
   "attachments": {},
   "cell_type": "markdown",
   "metadata": {},
   "source": [
    "<img src=\"resultsE15.png\">"
   ]
  },
  {
   "cell_type": "markdown",
   "metadata": {},
   "source": [
    "## En la tabla se observa que los Acuraccys más altos corresponden al algoritmo Random Forest con Over Sampling, Smote, y ADASYN. Adicionalmente los f1 Score, en general son cercanos a cero, sin embargo, para el random forest tienden a aumentar respecto a los demas."
   ]
  }
 ],
 "metadata": {
  "kernelspec": {
   "display_name": "Python 3",
   "language": "python",
   "name": "python3"
  },
  "language_info": {
   "codemirror_mode": {
    "name": "ipython",
    "version": 3
   },
   "file_extension": ".py",
   "mimetype": "text/x-python",
   "name": "python",
   "nbconvert_exporter": "python",
   "pygments_lexer": "ipython3",
   "version": "3.7.1"
  }
 },
 "nbformat": 4,
 "nbformat_minor": 1
}
